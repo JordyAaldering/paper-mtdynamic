{
 "cells": [
  {
   "cell_type": "code",
   "execution_count": 1,
   "id": "63863655-6de7-4746-ba31-bcbbeb651110",
   "metadata": {},
   "outputs": [],
   "source": [
    "import pandas as pd"
   ]
  },
  {
   "cell_type": "code",
   "execution_count": 2,
   "id": "a0072aaa-682f-4267-b821-1de23f024172",
   "metadata": {},
   "outputs": [],
   "source": [
    "def pct(x, y):\n",
    "    return (x - y) / ((x + y) / 2) * 100"
   ]
  },
  {
   "cell_type": "code",
   "execution_count": 3,
   "id": "6a0c5525-e822-4447-b977-7d8de542bb42",
   "metadata": {},
   "outputs": [],
   "source": [
    "def oracle(df, opt):\n",
    "    print('Energy overhead of the dynamic approach compared to an oracle-based approach')\n",
    "\n",
    "    mt = df[df['threads'] == 'mt'].copy()\n",
    "    df = df[(df['threads'] != 'mt') & (df['threads'] != 'rt')].copy()\n",
    "\n",
    "    mt['runtime'] = mt.apply(lambda row: pct(row['runtime'], df[(df['size'] == row['size']) & (df['threads'] == opt[row['size']])].iloc[0]['runtime']), axis=1)\n",
    "    mt['energy']  = mt.apply(lambda row: pct(row['energy'],  df[(df['size'] == row['size']) & (df['threads'] == opt[row['size']])].iloc[0]['energy']), axis=1)\n",
    "\n",
    "    return mt.groupby('size').mean(numeric_only=True).round(0).astype(int)"
   ]
  },
  {
   "cell_type": "code",
   "execution_count": 4,
   "id": "a5e6414a-d303-4095-894a-6bfcd46e37a1",
   "metadata": {},
   "outputs": [],
   "source": [
    "def runtime(df):\n",
    "    print('\\nEnergy overhead of the dynamic approach compared to a runtime-based approach')\n",
    "\n",
    "    mt = df[df['threads'] == 'mt'].copy()\n",
    "    rt = df[df['threads'] == 'rt'].copy()\n",
    "\n",
    "    mt['runtime'] = mt.apply(lambda row: pct(row['runtime'], rt[rt['size'] == row['size']].iloc[0]['runtime']), axis=1)\n",
    "    mt['energy']  = mt.apply(lambda row: pct(row['energy'],  rt[rt['size'] == row['size']].iloc[0]['energy']), axis=1)\n",
    "\n",
    "    return mt.groupby('size').mean(numeric_only=True).round(0).astype(int)"
   ]
  },
  {
   "cell_type": "code",
   "execution_count": 5,
   "id": "81ab53b1-0c98-495b-ab69-7f59532c91b2",
   "metadata": {},
   "outputs": [],
   "source": [
    "def mean(df):\n",
    "    print('\\nAverage energy overhead of the dynamic approach compared to a static approach')\n",
    "    \n",
    "    mt = df[df['threads'] == 'mt'].copy()\n",
    "    df = df[(df['threads'] != 'mt') & (df['threads'] != 'rt')].copy()\n",
    "\n",
    "    # Normalise runtime and energy consumption\n",
    "    df['runtime'] = df.apply(lambda row: pct(mt[mt['size'] == row['size']].iloc[0]['runtime'], row['runtime']), axis=1)\n",
    "    df['energy']  = df.apply(lambda row: pct(mt[mt['size'] == row['size']].iloc[0]['energy'],  row['energy']), axis=1)\n",
    "\n",
    "    # Drop unused columns and rows\n",
    "    df = df.drop('size', axis=1)\n",
    "    df = df[df['threads'] != 'mt']\n",
    "    df['threads'] = df['threads'].astype(int)\n",
    "\n",
    "    # Mean per thread-count\n",
    "    return df.groupby('threads').mean(numeric_only=True).round(0).astype(int)"
   ]
  },
  {
   "cell_type": "markdown",
   "id": "026b2221-0f6e-4617-992c-06de7ff0b027",
   "metadata": {},
   "source": [
    "---"
   ]
  },
  {
   "cell_type": "code",
   "execution_count": 6,
   "id": "2b11dbc1-b0f7-429c-b670-e7d3c0e4879c",
   "metadata": {},
   "outputs": [
    {
     "name": "stdout",
     "output_type": "stream",
     "text": [
      "Energy overhead of the dynamic approach compared to an oracle-based approach\n",
      "       runtime  energy\n",
      "size                  \n",
      "10000        7       4\n",
      "25000       -3       3\n",
      "40000        2       4\n",
      "\n",
      "Energy overhead of the dynamic approach compared to a runtime-based approach\n",
      "       runtime  energy\n",
      "size                  \n",
      "10000       -6       0\n",
      "25000       -6       0\n",
      "40000       10       1\n",
      "\n",
      "Average energy overhead of the dynamic approach compared to a static approach\n",
      "         runtime  energy\n",
      "threads                 \n",
      "1           -148     -80\n",
      "8            -51     -11\n",
      "12           -13       0\n",
      "14             1       2\n",
      "16             6      -1\n"
     ]
    }
   ],
   "source": [
    "df = pd.read_csv('data/compare_nbody.csv')\n",
    "df = df.drop(['runtimesd', 'energysd'], axis=1)\n",
    "print(oracle(df, { 10000: '16', 25000: '14', 40000: '12' }))\n",
    "print(runtime(df))\n",
    "print(mean(df))"
   ]
  },
  {
   "cell_type": "code",
   "execution_count": 7,
   "id": "f686424e-2e80-4c6f-a834-1733427d99e1",
   "metadata": {},
   "outputs": [
    {
     "name": "stdout",
     "output_type": "stream",
     "text": [
      "Energy overhead of the dynamic approach compared to an oracle-based approach\n",
      "       runtime  energy\n",
      "size                  \n",
      "10000        4       5\n",
      "25000        5       5\n",
      "40000       33      15\n",
      "\n",
      "Energy overhead of the dynamic approach compared to a runtime-based approach\n",
      "       runtime  energy\n",
      "size                  \n",
      "10000       -8      -2\n",
      "25000       -3      -4\n",
      "40000       25       7\n",
      "\n",
      "Average energy overhead of the dynamic approach compared to a static approach\n",
      "         runtime  energy\n",
      "threads                 \n",
      "1           -137     -79\n",
      "8            -39     -10\n",
      "12             0       4\n",
      "14             8       3\n",
      "16             7      -5\n"
     ]
    }
   ],
   "source": [
    "df = pd.read_csv('data/compare_stencil.csv')\n",
    "df = df.drop(['runtimesd', 'energysd'], axis=1)\n",
    "print(oracle(df, { 10000: '16', 25000: '14', 40000: '12' }))\n",
    "print(runtime(df))\n",
    "print(mean(df))"
   ]
  },
  {
   "cell_type": "code",
   "execution_count": 8,
   "id": "efef88e9-e9a9-4f03-aa41-8fc3d4646649",
   "metadata": {},
   "outputs": [
    {
     "name": "stdout",
     "output_type": "stream",
     "text": [
      "Energy overhead of the dynamic approach compared to an oracle-based approach\n",
      "      runtime  energy\n",
      "size                 \n",
      "500         8       8\n",
      "1000       93      46\n",
      "1500      100      68\n",
      "\n",
      "Energy overhead of the dynamic approach compared to a runtime-based approach\n",
      "      runtime  energy\n",
      "size                 \n",
      "500       -13      -7\n",
      "1000       41      10\n",
      "1500       14      -3\n",
      "\n",
      "Average energy overhead of the dynamic approach compared to a static approach\n",
      "         runtime  energy\n",
      "threads                 \n",
      "1           -110     -55\n",
      "8             67      41\n",
      "12           -40     -58\n",
      "16           -29     -49\n"
     ]
    }
   ],
   "source": [
    "df = pd.read_csv('data/compare_matmul.csv')\n",
    "df = df.drop(['runtimesd', 'energysd'], axis=1)\n",
    "print(oracle(df, { 500: '8', 1000: '8', 1500: '8' }))\n",
    "print(runtime(df))\n",
    "print(mean(df))"
   ]
  },
  {
   "cell_type": "code",
   "execution_count": 9,
   "id": "5f1b45ce-caa5-4fb0-8e38-9e7b203c70ad",
   "metadata": {},
   "outputs": [
    {
     "name": "stdout",
     "output_type": "stream",
     "text": [
      "Energy overhead of the dynamic approach compared to an oracle-based approach\n",
      "      runtime  energy\n",
      "size                 \n",
      "500         1       1\n",
      "1000        0       1\n",
      "1500       16      10\n",
      "\n",
      "Energy overhead of the dynamic approach compared to a runtime-based approach\n",
      "      runtime  energy\n",
      "size                 \n",
      "500        -3      -2\n",
      "1000       -1      -1\n",
      "1500       -2       1\n",
      "\n",
      "Average energy overhead of the dynamic approach compared to a static approach\n",
      "         runtime  energy\n",
      "threads                 \n",
      "1           -157    -100\n",
      "8             -3       1\n",
      "12            -4      -2\n",
      "16            -7      -7\n"
     ]
    }
   ],
   "source": [
    "df = pd.read_csv('data/compare_rust.csv')\n",
    "df = df.drop(['runtimesd', 'energysd'], axis=1)\n",
    "print(oracle(df, { 500: '16', 1000: '16', 1500: '8' }))\n",
    "print(runtime(df))\n",
    "print(mean(df))"
   ]
  },
  {
   "cell_type": "code",
   "execution_count": null,
   "id": "23d9e7b1-69c5-4ffb-8af9-697d65221e7d",
   "metadata": {},
   "outputs": [],
   "source": []
  }
 ],
 "metadata": {
  "kernelspec": {
   "display_name": "Python 3 (ipykernel)",
   "language": "python",
   "name": "python3"
  },
  "language_info": {
   "codemirror_mode": {
    "name": "ipython",
    "version": 3
   },
   "file_extension": ".py",
   "mimetype": "text/x-python",
   "name": "python",
   "nbconvert_exporter": "python",
   "pygments_lexer": "ipython3",
   "version": "3.12.3"
  }
 },
 "nbformat": 4,
 "nbformat_minor": 5
}
